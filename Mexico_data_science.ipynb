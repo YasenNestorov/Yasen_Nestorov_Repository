{
 "cells": [
  {
   "cell_type": "code",
   "execution_count": 1,
   "metadata": {},
   "outputs": [],
   "source": [
    "%matplotlib inline"
   ]
  },
  {
   "cell_type": "code",
   "execution_count": 2,
   "metadata": {},
   "outputs": [],
   "source": [
    "import numpy as np\n",
    "import pandas as pd\n",
    "import matplotlib.pyplot as plt\n",
    "\n",
    "from scipy.stats import ttest_ind\n",
    "\n",
    "from sklearn.preprocessing import MinMaxScaler\n",
    "from sklearn.model_selection import train_test_split\n",
    "from sklearn.linear_model import LogisticRegression"
   ]
  },
  {
   "cell_type": "markdown",
   "metadata": {},
   "source": [
    "# User Behavior in FOREX Trading\n",
    "\n",
    "### Introduction\n",
    "\n",
    "The goal of this project is to explore a dataset with clients from this year representing a specific unregulated FOREX trading brand that our company owns. Based on the conducted analysis we would draw conclusions and provide recommendations on the country blend currently in place. Our findings might change the brand's leads traffic thus influencing the company's sales and marketing strategies.\n",
    "\n",
    "We are going to also look for interesting patterns and correlations within the various trading parameters and check whether our findings could be observed also in regulated brands. A problem that the business is nowadays seriously interested in is whether clients are logging in to our trading platforms only because of our agents calling them or users' self-initiative is becoming the main driving force. Ideally, our analysis would translate into meaningful business information that could be used by the top management of the company for taking better informed decisions.\n",
    "\n",
    "Finally, we are going to model our data using logistic regression. Our goal would be to try predicting the current activity status of a user based on the historical data we have accumulated for him. In case the model shows high accuracy, we could use it within the future as a stepping stone for developing a system that would allow us to foretell the activity potential of all new users based, for example, only on their activity within their first week with us. Such a model would be highly valuable for a company like ours. "
   ]
  },
  {
   "cell_type": "markdown",
   "metadata": {},
   "source": [
    "### 1. Cleaning up our dataset\n",
    "   We need a tidy dataset and here we are going to prepare it. In general, we are going to rename columns, add some new            ones, drop some that we no longer need, replace value names and format certain parameters."
   ]
  },
  {
   "cell_type": "code",
   "execution_count": 4,
   "metadata": {},
   "outputs": [],
   "source": [
    "# Reading our data, getting rid of our first two rows and making the 'User Id' column our index column\n",
    "mexico_data = pd.read_csv(\"~/Mexico_leads_data.csv\", header = 2, index_col = \"User Id\")"
   ]
  },
  {
   "cell_type": "code",
   "execution_count": 5,
   "metadata": {},
   "outputs": [],
   "source": [
    "# Giving one of our columns a more user-friendly name\n",
    "mexico_data[\"Agent Desk Name\"] = mexico_data[\"First Ret Assign Desk Name\"]"
   ]
  },
  {
   "cell_type": "code",
   "execution_count": 6,
   "metadata": {},
   "outputs": [],
   "source": [
    "# Also we want to display the full activity status name of the users and give the column a better name\n",
    "mexico_data[\"Current Activity Status\"] = mexico_data[\"Client Activity Status Type Name\"].replace({'D': 'Dormant', 'C': 'Churning', 'A': 'Active'})"
   ]
  },
  {
   "cell_type": "code",
   "execution_count": 7,
   "metadata": {},
   "outputs": [],
   "source": [
    "# Let's add an interesting parameter that is very important in non-automated FOREX trading companies - the % of answered calls per user\n",
    "mexico_data[\"% Answered Calls\"] = np.round(mexico_data[\"# Answered Calls\"] / mexico_data[\"# Total Calls\"] * 100, 2)"
   ]
  },
  {
   "cell_type": "code",
   "execution_count": 8,
   "metadata": {},
   "outputs": [],
   "source": [
    "# We can see that the column representing the net time spent on the phone by users is in seconds - let's convert it to minutes, round the number up and give our new column a name\n",
    "mexico_data[\"Net Call Time in Min\"] = np.round(mexico_data[\"SumBillsec\"] / 60, 2)"
   ]
  },
  {
   "cell_type": "code",
   "execution_count": 9,
   "metadata": {},
   "outputs": [],
   "source": [
    "# Finally, we are getting rid of the columns we no longer need, either because we have the information elsewhere or because the column does not give us valuable information\n",
    "mexico_data = mexico_data.drop(['Client Activity Status Type Name', 'First Ret Assign Desk Name', 'Lead Office' , 'SumBillsec'], axis = 1)"
   ]
  },
  {
   "cell_type": "code",
   "execution_count": 10,
   "metadata": {},
   "outputs": [
    {
     "data": {
      "text/html": [
       "<div>\n",
       "<style scoped>\n",
       "    .dataframe tbody tr th:only-of-type {\n",
       "        vertical-align: middle;\n",
       "    }\n",
       "\n",
       "    .dataframe tbody tr th {\n",
       "        vertical-align: top;\n",
       "    }\n",
       "\n",
       "    .dataframe thead th {\n",
       "        text-align: right;\n",
       "    }\n",
       "</style>\n",
       "<table border=\"1\" class=\"dataframe\">\n",
       "  <thead>\n",
       "    <tr style=\"text-align: right;\">\n",
       "      <th></th>\n",
       "      <th>First RTN assignment</th>\n",
       "      <th>First Position Date</th>\n",
       "      <th>First Unprotected Position Date</th>\n",
       "      <th>First Liquidation Date</th>\n",
       "      <th>First Deposit Date</th>\n",
       "      <th>First Withdrawal Date</th>\n",
       "      <th>First Login Date</th>\n",
       "      <th># Withdrawal Transactions</th>\n",
       "      <th># Deposit Transactions</th>\n",
       "      <th>Agent Team Name</th>\n",
       "      <th>...</th>\n",
       "      <th># Answered Calls</th>\n",
       "      <th># Logins</th>\n",
       "      <th># Total Calls</th>\n",
       "      <th># Liquidations</th>\n",
       "      <th># Protected positions</th>\n",
       "      <th># Unprotected Positions</th>\n",
       "      <th>Agent Desk Name</th>\n",
       "      <th>Current Activity Status</th>\n",
       "      <th>% Answered Calls</th>\n",
       "      <th>Net Call Time in Min</th>\n",
       "    </tr>\n",
       "    <tr>\n",
       "      <th>User Id</th>\n",
       "      <th></th>\n",
       "      <th></th>\n",
       "      <th></th>\n",
       "      <th></th>\n",
       "      <th></th>\n",
       "      <th></th>\n",
       "      <th></th>\n",
       "      <th></th>\n",
       "      <th></th>\n",
       "      <th></th>\n",
       "      <th></th>\n",
       "      <th></th>\n",
       "      <th></th>\n",
       "      <th></th>\n",
       "      <th></th>\n",
       "      <th></th>\n",
       "      <th></th>\n",
       "      <th></th>\n",
       "      <th></th>\n",
       "      <th></th>\n",
       "      <th></th>\n",
       "    </tr>\n",
       "  </thead>\n",
       "  <tbody>\n",
       "    <tr>\n",
       "      <td>4330088</td>\n",
       "      <td>9/1/2020 17:08</td>\n",
       "      <td>20/01/2020</td>\n",
       "      <td>28/01/2020</td>\n",
       "      <td>28/02/2020</td>\n",
       "      <td>7/1/2020</td>\n",
       "      <td>1/1/1900</td>\n",
       "      <td>15/03/2017</td>\n",
       "      <td>0</td>\n",
       "      <td>1</td>\n",
       "      <td>Team A</td>\n",
       "      <td>...</td>\n",
       "      <td>45.0</td>\n",
       "      <td>141</td>\n",
       "      <td>226.0</td>\n",
       "      <td>1.0</td>\n",
       "      <td>5.0</td>\n",
       "      <td>33</td>\n",
       "      <td>Desk C</td>\n",
       "      <td>Dormant</td>\n",
       "      <td>19.91</td>\n",
       "      <td>321.25</td>\n",
       "    </tr>\n",
       "    <tr>\n",
       "      <td>4396585</td>\n",
       "      <td>22/02/2020 17:48:38</td>\n",
       "      <td>5/3/2020</td>\n",
       "      <td>24/03/2020</td>\n",
       "      <td>12/3/2020</td>\n",
       "      <td>21/02/2020</td>\n",
       "      <td>1/1/1900</td>\n",
       "      <td>8/4/2017</td>\n",
       "      <td>0</td>\n",
       "      <td>1</td>\n",
       "      <td>Team B</td>\n",
       "      <td>...</td>\n",
       "      <td>87.0</td>\n",
       "      <td>119</td>\n",
       "      <td>233.0</td>\n",
       "      <td>2.0</td>\n",
       "      <td>5.0</td>\n",
       "      <td>37</td>\n",
       "      <td>Desk F</td>\n",
       "      <td>Dormant</td>\n",
       "      <td>37.34</td>\n",
       "      <td>1409.87</td>\n",
       "    </tr>\n",
       "    <tr>\n",
       "      <td>4784070</td>\n",
       "      <td>24/01/2020 23:31:41</td>\n",
       "      <td>20/02/2020</td>\n",
       "      <td>27/02/2020</td>\n",
       "      <td>16/03/2020</td>\n",
       "      <td>23/01/2020</td>\n",
       "      <td>1/1/1900</td>\n",
       "      <td>14/07/2017</td>\n",
       "      <td>0</td>\n",
       "      <td>2</td>\n",
       "      <td>Team B</td>\n",
       "      <td>...</td>\n",
       "      <td>29.0</td>\n",
       "      <td>243</td>\n",
       "      <td>109.0</td>\n",
       "      <td>1.0</td>\n",
       "      <td>5.0</td>\n",
       "      <td>55</td>\n",
       "      <td>Desk C</td>\n",
       "      <td>Dormant</td>\n",
       "      <td>26.61</td>\n",
       "      <td>76.68</td>\n",
       "    </tr>\n",
       "    <tr>\n",
       "      <td>4799142</td>\n",
       "      <td>15/01/2020 15:10:13</td>\n",
       "      <td>17/01/2020</td>\n",
       "      <td>22/01/2020</td>\n",
       "      <td>12/2/2020</td>\n",
       "      <td>14/01/2020</td>\n",
       "      <td>3/2/2020</td>\n",
       "      <td>20/07/2017</td>\n",
       "      <td>1</td>\n",
       "      <td>2</td>\n",
       "      <td>Team A</td>\n",
       "      <td>...</td>\n",
       "      <td>72.0</td>\n",
       "      <td>659</td>\n",
       "      <td>183.0</td>\n",
       "      <td>2.0</td>\n",
       "      <td>5.0</td>\n",
       "      <td>135</td>\n",
       "      <td>Desk F</td>\n",
       "      <td>Dormant</td>\n",
       "      <td>39.34</td>\n",
       "      <td>730.65</td>\n",
       "    </tr>\n",
       "    <tr>\n",
       "      <td>4959701</td>\n",
       "      <td>10/2/2020 16:01</td>\n",
       "      <td>10/2/2020</td>\n",
       "      <td>12/2/2020</td>\n",
       "      <td>27/02/2020</td>\n",
       "      <td>8/2/2020</td>\n",
       "      <td>1/1/1900</td>\n",
       "      <td>13/09/2017</td>\n",
       "      <td>0</td>\n",
       "      <td>4</td>\n",
       "      <td>Team B</td>\n",
       "      <td>...</td>\n",
       "      <td>103.0</td>\n",
       "      <td>853</td>\n",
       "      <td>281.0</td>\n",
       "      <td>3.0</td>\n",
       "      <td>5.0</td>\n",
       "      <td>311</td>\n",
       "      <td>Desk A</td>\n",
       "      <td>Dormant</td>\n",
       "      <td>36.65</td>\n",
       "      <td>800.93</td>\n",
       "    </tr>\n",
       "  </tbody>\n",
       "</table>\n",
       "<p>5 rows × 23 columns</p>\n",
       "</div>"
      ],
      "text/plain": [
       "        First RTN assignment First Position Date  \\\n",
       "User Id                                            \n",
       "4330088       9/1/2020 17:08          20/01/2020   \n",
       "4396585  22/02/2020 17:48:38            5/3/2020   \n",
       "4784070  24/01/2020 23:31:41          20/02/2020   \n",
       "4799142  15/01/2020 15:10:13          17/01/2020   \n",
       "4959701      10/2/2020 16:01           10/2/2020   \n",
       "\n",
       "        First Unprotected Position Date First Liquidation Date  \\\n",
       "User Id                                                          \n",
       "4330088                      28/01/2020             28/02/2020   \n",
       "4396585                      24/03/2020              12/3/2020   \n",
       "4784070                      27/02/2020             16/03/2020   \n",
       "4799142                      22/01/2020              12/2/2020   \n",
       "4959701                       12/2/2020             27/02/2020   \n",
       "\n",
       "        First Deposit Date First Withdrawal Date First Login Date  \\\n",
       "User Id                                                             \n",
       "4330088           7/1/2020              1/1/1900       15/03/2017   \n",
       "4396585         21/02/2020              1/1/1900         8/4/2017   \n",
       "4784070         23/01/2020              1/1/1900       14/07/2017   \n",
       "4799142         14/01/2020              3/2/2020       20/07/2017   \n",
       "4959701           8/2/2020              1/1/1900       13/09/2017   \n",
       "\n",
       "         # Withdrawal Transactions  # Deposit Transactions Agent Team Name  \\\n",
       "User Id                                                                      \n",
       "4330088                          0                       1          Team A   \n",
       "4396585                          0                       1          Team B   \n",
       "4784070                          0                       2          Team B   \n",
       "4799142                          1                       2          Team A   \n",
       "4959701                          0                       4          Team B   \n",
       "\n",
       "         ... # Answered Calls # Logins # Total Calls  # Liquidations  \\\n",
       "User Id  ...                                                           \n",
       "4330088  ...             45.0      141         226.0             1.0   \n",
       "4396585  ...             87.0      119         233.0             2.0   \n",
       "4784070  ...             29.0      243         109.0             1.0   \n",
       "4799142  ...             72.0      659         183.0             2.0   \n",
       "4959701  ...            103.0      853         281.0             3.0   \n",
       "\n",
       "         # Protected positions  # Unprotected Positions  Agent Desk Name  \\\n",
       "User Id                                                                    \n",
       "4330088                    5.0                       33           Desk C   \n",
       "4396585                    5.0                       37           Desk F   \n",
       "4784070                    5.0                       55           Desk C   \n",
       "4799142                    5.0                      135           Desk F   \n",
       "4959701                    5.0                      311           Desk A   \n",
       "\n",
       "         Current Activity Status % Answered Calls Net Call Time in Min  \n",
       "User Id                                                                 \n",
       "4330088                  Dormant            19.91               321.25  \n",
       "4396585                  Dormant            37.34              1409.87  \n",
       "4784070                  Dormant            26.61                76.68  \n",
       "4799142                  Dormant            39.34               730.65  \n",
       "4959701                  Dormant            36.65               800.93  \n",
       "\n",
       "[5 rows x 23 columns]"
      ]
     },
     "execution_count": 10,
     "metadata": {},
     "output_type": "execute_result"
    }
   ],
   "source": [
    "# We can see that our dataset looks proper now\n",
    "mexico_data.head()"
   ]
  },
  {
   "cell_type": "markdown",
   "metadata": {},
   "source": [
    "### 2. Inspecting the data\n",
    "   We can see that many of our columns have the wrong data types and we also have a certain amount of empty values at some        places. Here we are going to fix that."
   ]
  },
  {
   "cell_type": "code",
   "execution_count": 11,
   "metadata": {},
   "outputs": [],
   "source": [
    "# Converting our date columns to datetime format\n",
    "mexico_data.iloc[:, 0:7] = mexico_data.iloc[:, 0:7].apply(pd.to_datetime, errors = 'coerce')"
   ]
  },
  {
   "cell_type": "code",
   "execution_count": 12,
   "metadata": {},
   "outputs": [],
   "source": [
    "# Removing the commas from certain columns and converting them to float type\n",
    "mexico_data['# Total Positions'] = mexico_data['# Total Positions'].str.replace(',', '').astype(float)\n",
    "mexico_data['# Unprotected Positions'] = mexico_data['# Unprotected Positions'].str.replace(',', '').astype(float)"
   ]
  },
  {
   "cell_type": "code",
   "execution_count": 13,
   "metadata": {},
   "outputs": [],
   "source": [
    "# Due to the nature of the data within the columns containing null values, we can simply add 0 to fill them up\n",
    "mexico_data = mexico_data.fillna(0)"
   ]
  },
  {
   "cell_type": "code",
   "execution_count": 14,
   "metadata": {},
   "outputs": [
    {
     "name": "stdout",
     "output_type": "stream",
     "text": [
      "<class 'pandas.core.frame.DataFrame'>\n",
      "Int64Index: 7060 entries, 4330088 to 8070529\n",
      "Data columns (total 23 columns):\n",
      "First RTN assignment               7060 non-null datetime64[ns]\n",
      "First Position Date                7060 non-null datetime64[ns]\n",
      "First Unprotected Position Date    7060 non-null datetime64[ns]\n",
      "First Liquidation Date             7060 non-null datetime64[ns]\n",
      "First Deposit Date                 7060 non-null datetime64[ns]\n",
      "First Withdrawal Date              7060 non-null datetime64[ns]\n",
      "First Login Date                   7060 non-null datetime64[ns]\n",
      "# Withdrawal Transactions          7060 non-null int64\n",
      "# Deposit Transactions             7060 non-null int64\n",
      "Agent Team Name                    7060 non-null object\n",
      "Agent Group Name                   7060 non-null object\n",
      "# Total Positions                  7060 non-null float64\n",
      "Lead Country                       7060 non-null object\n",
      "# Answered Calls                   7060 non-null float64\n",
      "# Logins                           7060 non-null int64\n",
      "# Total Calls                      7060 non-null float64\n",
      "# Liquidations                     7060 non-null float64\n",
      "# Protected positions              7060 non-null float64\n",
      "# Unprotected Positions            7060 non-null float64\n",
      "Agent Desk Name                    7060 non-null object\n",
      "Current Activity Status            7060 non-null object\n",
      "% Answered Calls                   7060 non-null float64\n",
      "Net Call Time in Min               7060 non-null float64\n",
      "dtypes: datetime64[ns](7), float64(8), int64(3), object(5)\n",
      "memory usage: 1.3+ MB\n"
     ]
    }
   ],
   "source": [
    "# Now our dataset is ready for analysis\n",
    "mexico_data.info()"
   ]
  },
  {
   "cell_type": "markdown",
   "metadata": {},
   "source": [
    "### 3. Exploring the data\n",
    "   We want to check for certain trends and statistics strictly related to the country blend. Our goal is to advise whether the    current users' traffic distribution is the most optimal one or changes need to be implemented, while at the same time        stepping on research conducted in the past. "
   ]
  },
  {
   "cell_type": "code",
   "execution_count": 15,
   "metadata": {
    "scrolled": true
   },
   "outputs": [
    {
     "data": {
      "text/plain": [
       "Lead Country\n",
       "Argentina               20\n",
       "Brazil                   1\n",
       "Chile                  622\n",
       "Colombia              1479\n",
       "Costa Rica             213\n",
       "Dominican Republic      22\n",
       "Ecuador                 38\n",
       "El Salvador            847\n",
       "Guatemala                1\n",
       "Mexico                1635\n",
       "Paraguay                 1\n",
       "Peru                  1956\n",
       "Uruguay                221\n",
       "Venezuela                4\n",
       "Name: First RTN assignment, dtype: int64"
      ]
     },
     "execution_count": 15,
     "metadata": {},
     "output_type": "execute_result"
    }
   ],
   "source": [
    "# First we can check how this year's users are distributed\n",
    "mexico_data.groupby(\"Lead Country\")[\"First RTN assignment\"].count()"
   ]
  },
  {
   "cell_type": "markdown",
   "metadata": {},
   "source": [
    "We are seeing countries like Brazil and Paraguay that are not supposed to be part of the FOREX trading brand that we are analyzing and have gotten here by mistake, or  countries like Guatemala and Venezuela whose users' numbers are too low for making general conclusions. Let's remove them."
   ]
  },
  {
   "cell_type": "code",
   "execution_count": 16,
   "metadata": {},
   "outputs": [],
   "source": [
    "# Defining a function for listing countries that are not of interest in view of the current analysis \n",
    "def weak_traffic_countries(mexico_data, cutoff):\n",
    "    \"\"\"\n",
    "    Returns a list of countries where the amount of users is below the cut-off threshold\n",
    "    \"\"\"\n",
    "    countries = None\n",
    "    unnecessary_countries = None\n",
    "    countries = mexico_data.groupby(\"Lead Country\")[\"First RTN assignment\"].count()\n",
    "    unnecessary_countries = list(countries[countries < cutoff].index)\n",
    "    return unnecessary_countries"
   ]
  },
  {
   "cell_type": "code",
   "execution_count": 17,
   "metadata": {},
   "outputs": [],
   "source": [
    "# Removing the rows with users representing the countries we are not currently interested in. We are setting the cut-off threshold at 5\n",
    "countries_of_interest_data = mexico_data.drop(mexico_data[mexico_data[\"Lead Country\"].isin(weak_traffic_countries(mexico_data, 5))].index)"
   ]
  },
  {
   "cell_type": "markdown",
   "metadata": {},
   "source": [
    "Now that we have our data covering only countries of interest, we can start plotting it, while focusing on the main performance indicators that we track in the retention part of the FOREX business. "
   ]
  },
  {
   "cell_type": "code",
   "execution_count": 62,
   "metadata": {},
   "outputs": [
    {
     "data": {
      "image/png": "[encoded data removed]",
      "text/plain": [
       "<Figure size 432x288 with 1 Axes>"
      ]
     },
     "metadata": {},
     "output_type": "display_data"
    }
   ],
   "source": [
    "# Plotting a pie chart with the country distribution\n",
    "countries_of_interest = countries_of_interest_data.groupby(\"Lead Country\")[\"First RTN assignment\"].count()\n",
    "plt.gca().axis(\"equal\")\n",
    "pie = plt.pie(countries_of_interest, startangle=0, autopct='%1.0f%%', pctdistance=0.9, radius=1.9)\n",
    "labels = countries_of_interest.index.unique()\n",
    "plt.title(\"Country Representation\", weight='bold', loc = \"right\", size=14)\n",
    "plt.legend(pie[0],labels, bbox_to_anchor=(1,0.5), loc=\"center right\", fontsize=10, \n",
    "           bbox_transform=plt.gcf().transFigure)\n",
    "plt.show()"
   ]
  },
  {
   "cell_type": "markdown",
   "metadata": {},
   "source": [
    "It is clear that most of our clients are coming from Mexico, Peru, Colombia and El Salvador, which has been the case for quite some time. We are interested in investing more in Ecuador so we can check whether increasing the presence of users from this country within the country blend would be justified or not. Key performance indicators like average number of deposits and positions, as well as levels of user responsiveness and trading addiction are going to be analyzed.  "
   ]
  },
  {
   "cell_type": "code",
   "execution_count": 63,
   "metadata": {},
   "outputs": [],
   "source": [
    "# Creating a function for plotting a bar chart accepting a variable, title and y label name as parameters\n",
    "def plotting_bar_per_country(statistic_variable, title, ylabel):\n",
    "    \"\"\"\n",
    "    Plots a bar chart using the provided parameters\n",
    "    \"\"\"\n",
    "    plt.figure(figsize = [9,6])\n",
    "    plt.bar(np.arange(len(statistic_variable)), statistic_variable.values, align='center', alpha=0.5)\n",
    "    plt.xticks(np.arange(len(statistic_variable)), statistic_variable.index, rotation = 'vertical')\n",
    "    plt.ylabel(ylabel)\n",
    "    plt.title(title)\n",
    "    plt.show()"
   ]
  },
  {
   "cell_type": "code",
   "execution_count": 64,
   "metadata": {},
   "outputs": [
    {
     "data": {
      "image/png": "[encoded data removed]",
      "text/plain": [
       "<Figure size 648x432 with 1 Axes>"
      ]
     },
     "metadata": {
      "needs_background": "light"
     },
     "output_type": "display_data"
    }
   ],
   "source": [
    "# Checking the average number of deposits per country\n",
    "average_number_of_deposits = countries_of_interest_data.groupby(\"Lead Country\")[\"# Deposit Transactions\"].mean()\n",
    "plotting_bar_per_country(average_number_of_deposits,\n",
    "                         'Average Number of Deposits per Country',\n",
    "                         'Average Number of Deposits')"
   ]
  },
  {
   "cell_type": "code",
   "execution_count": 65,
   "metadata": {},
   "outputs": [
    {
     "data": {
      "image/png": "[encoded data removed]",
      "text/plain": [
       "<Figure size 648x432 with 1 Axes>"
      ]
     },
     "metadata": {
      "needs_background": "light"
     },
     "output_type": "display_data"
    }
   ],
   "source": [
    "# Checking the average number of positions per country\n",
    "average_number_of_positions = countries_of_interest_data.groupby(\"Lead Country\")[\"# Total Positions\"].mean()\n",
    "plotting_bar_per_country(average_number_of_positions,\n",
    "                         'Average Number of Positions per Country',\n",
    "                         'Average Number of Positions')"
   ]
  },
  {
   "cell_type": "code",
   "execution_count": 66,
   "metadata": {},
   "outputs": [
    {
     "data": {
      "image/png": "[encoded data removed]",
      "text/plain": [
       "<Figure size 648x432 with 1 Axes>"
      ]
     },
     "metadata": {
      "needs_background": "light"
     },
     "output_type": "display_data"
    }
   ],
   "source": [
    "# Observing the level of responsiveness per country\n",
    "level_of_responsiveness = countries_of_interest_data.groupby(\"Lead Country\")[\"% Answered Calls\"].quantile(0.5)\n",
    "plotting_bar_per_country(level_of_responsiveness,\n",
    "                         'Level of Responsiveness',\n",
    "                         '% Answered Calls at the 50th Percentile')"
   ]
  },
  {
   "cell_type": "code",
   "execution_count": 67,
   "metadata": {},
   "outputs": [
    {
     "data": {
      "image/png": "[encoded data removed]",
      "text/plain": [
       "<Figure size 648x432 with 1 Axes>"
      ]
     },
     "metadata": {
      "needs_background": "light"
     },
     "output_type": "display_data"
    }
   ],
   "source": [
    "# Plotting the mode of the number of liquidations per country\n",
    "level_of_trading_addiction = countries_of_interest_data.groupby(\"Lead Country\")[\"# Liquidations\"].agg(pd.Series.mode)\n",
    "plt.figure(figsize = [9,6])\n",
    "plt.plot(level_of_trading_addiction, color='Blue')\n",
    "plt.ylabel('Number of Liquidations Mode')\n",
    "plt.xticks(np.arange(len(level_of_trading_addiction)), level_of_trading_addiction.index, rotation = 'vertical')\n",
    "plt.title('Level of Trading Addiction')\n",
    "plt.show()"
   ]
  },
  {
   "cell_type": "markdown",
   "metadata": {},
   "source": [
    "Based on the data that we got it could be concluded that the traffic from Ecuador is worth increasing - users there have by far the largest average number of positions and also the highest average amount of deposit transactions. In addition, they also look responsive on the phone - 50% of the users there have answered more than 25% of their calls. Dominican Republic results look good as well but there we have to take into consideration the actual costs related to attracting clients - they are quite high so let's just leave it for now. Another interesting aspect that we are noting here is that Uruguay users have very high level of phone responsiveness but deposit and trading parameters are not good enough, which means that the agents are not doing a good job despite potential being clearly there.\n",
    "\n",
    "On the last chart we can see that there is no difference between the countries when it comes to number of liquidations - I am speaking from experience when I say that in general most users stop trading after their first liquidation either because they get afraid of the possibility of losing more money, or because of lack of trust towards the dealings of the trading company.\n",
    "\n",
    "When we take into consideration also other FOREX trading parameters that are not included in our dataset such as deposit amounts, rollover fees, commissions and spreads, we would see that usually the big clients are coming from Mexico, Peru and Colombia. Those countries have the highest lifetime value and trading volumes therefore for us it is reasonable to continue investing in those markets. As a conclusion we could also say that the flow from Ecuador should be increased but slowly and trading parameters there should be carefully observed on a monthly basis. Chile's deposit and trading results are also improving when compared to last year so the country's presence within the country blend should be increased as well. We are going to take that with the marketing and sales departments. \n"
   ]
  },
  {
   "cell_type": "markdown",
   "metadata": {},
   "source": [
    "### 4. Looking for correlations in the retention parameters\n",
    "   After we researched how the different groups of users perform based on their country, we can now check for interesting          retention parameter correlations."
   ]
  },
  {
   "cell_type": "code",
   "execution_count": 18,
   "metadata": {},
   "outputs": [
    {
     "data": {
      "text/html": [
       "<div>\n",
       "<style scoped>\n",
       "    .dataframe tbody tr th:only-of-type {\n",
       "        vertical-align: middle;\n",
       "    }\n",
       "\n",
       "    .dataframe tbody tr th {\n",
       "        vertical-align: top;\n",
       "    }\n",
       "\n",
       "    .dataframe thead th {\n",
       "        text-align: right;\n",
       "    }\n",
       "</style>\n",
       "<table border=\"1\" class=\"dataframe\">\n",
       "  <thead>\n",
       "    <tr style=\"text-align: right;\">\n",
       "      <th></th>\n",
       "      <th># Withdrawal Transactions</th>\n",
       "      <th># Deposit Transactions</th>\n",
       "      <th># Total Positions</th>\n",
       "      <th># Answered Calls</th>\n",
       "      <th># Logins</th>\n",
       "      <th># Total Calls</th>\n",
       "      <th># Liquidations</th>\n",
       "      <th># Protected positions</th>\n",
       "      <th># Unprotected Positions</th>\n",
       "      <th>% Answered Calls</th>\n",
       "      <th>Net Call Time in Min</th>\n",
       "    </tr>\n",
       "  </thead>\n",
       "  <tbody>\n",
       "    <tr>\n",
       "      <td># Withdrawal Transactions</td>\n",
       "      <td>1.000000</td>\n",
       "      <td>0.258760</td>\n",
       "      <td>0.187878</td>\n",
       "      <td>0.203831</td>\n",
       "      <td>0.207712</td>\n",
       "      <td>0.109052</td>\n",
       "      <td>0.007116</td>\n",
       "      <td>0.064387</td>\n",
       "      <td>0.187077</td>\n",
       "      <td>0.029455</td>\n",
       "      <td>0.190543</td>\n",
       "    </tr>\n",
       "    <tr>\n",
       "      <td># Deposit Transactions</td>\n",
       "      <td>0.258760</td>\n",
       "      <td>1.000000</td>\n",
       "      <td>0.540663</td>\n",
       "      <td>0.528255</td>\n",
       "      <td>0.450631</td>\n",
       "      <td>0.283742</td>\n",
       "      <td>0.275646</td>\n",
       "      <td>0.138787</td>\n",
       "      <td>0.539719</td>\n",
       "      <td>0.139613</td>\n",
       "      <td>0.497205</td>\n",
       "    </tr>\n",
       "    <tr>\n",
       "      <td># Total Positions</td>\n",
       "      <td>0.187878</td>\n",
       "      <td>0.540663</td>\n",
       "      <td>1.000000</td>\n",
       "      <td>0.496732</td>\n",
       "      <td>0.642622</td>\n",
       "      <td>0.269640</td>\n",
       "      <td>0.375548</td>\n",
       "      <td>0.210918</td>\n",
       "      <td>0.999592</td>\n",
       "      <td>0.130922</td>\n",
       "      <td>0.463614</td>\n",
       "    </tr>\n",
       "    <tr>\n",
       "      <td># Answered Calls</td>\n",
       "      <td>0.203831</td>\n",
       "      <td>0.528255</td>\n",
       "      <td>0.496732</td>\n",
       "      <td>1.000000</td>\n",
       "      <td>0.503848</td>\n",
       "      <td>0.665485</td>\n",
       "      <td>0.390524</td>\n",
       "      <td>0.150497</td>\n",
       "      <td>0.495193</td>\n",
       "      <td>0.164581</td>\n",
       "      <td>0.777900</td>\n",
       "    </tr>\n",
       "    <tr>\n",
       "      <td># Logins</td>\n",
       "      <td>0.207712</td>\n",
       "      <td>0.450631</td>\n",
       "      <td>0.642622</td>\n",
       "      <td>0.503848</td>\n",
       "      <td>1.000000</td>\n",
       "      <td>0.279415</td>\n",
       "      <td>0.387089</td>\n",
       "      <td>0.166263</td>\n",
       "      <td>0.641461</td>\n",
       "      <td>0.126918</td>\n",
       "      <td>0.431165</td>\n",
       "    </tr>\n",
       "    <tr>\n",
       "      <td># Total Calls</td>\n",
       "      <td>0.109052</td>\n",
       "      <td>0.283742</td>\n",
       "      <td>0.269640</td>\n",
       "      <td>0.665485</td>\n",
       "      <td>0.279415</td>\n",
       "      <td>1.000000</td>\n",
       "      <td>0.274721</td>\n",
       "      <td>0.069924</td>\n",
       "      <td>0.269148</td>\n",
       "      <td>-0.410362</td>\n",
       "      <td>0.441391</td>\n",
       "    </tr>\n",
       "    <tr>\n",
       "      <td># Liquidations</td>\n",
       "      <td>0.007116</td>\n",
       "      <td>0.275646</td>\n",
       "      <td>0.375548</td>\n",
       "      <td>0.390524</td>\n",
       "      <td>0.387089</td>\n",
       "      <td>0.274721</td>\n",
       "      <td>1.000000</td>\n",
       "      <td>0.111801</td>\n",
       "      <td>0.374442</td>\n",
       "      <td>0.001218</td>\n",
       "      <td>0.315778</td>\n",
       "    </tr>\n",
       "    <tr>\n",
       "      <td># Protected positions</td>\n",
       "      <td>0.064387</td>\n",
       "      <td>0.138787</td>\n",
       "      <td>0.210918</td>\n",
       "      <td>0.150497</td>\n",
       "      <td>0.166263</td>\n",
       "      <td>0.069924</td>\n",
       "      <td>0.111801</td>\n",
       "      <td>1.000000</td>\n",
       "      <td>0.182906</td>\n",
       "      <td>0.061994</td>\n",
       "      <td>0.173245</td>\n",
       "    </tr>\n",
       "    <tr>\n",
       "      <td># Unprotected Positions</td>\n",
       "      <td>0.187077</td>\n",
       "      <td>0.539719</td>\n",
       "      <td>0.999592</td>\n",
       "      <td>0.495193</td>\n",
       "      <td>0.641461</td>\n",
       "      <td>0.269148</td>\n",
       "      <td>0.374442</td>\n",
       "      <td>0.182906</td>\n",
       "      <td>1.000000</td>\n",
       "      <td>0.129863</td>\n",
       "      <td>0.461219</td>\n",
       "    </tr>\n",
       "    <tr>\n",
       "      <td>% Answered Calls</td>\n",
       "      <td>0.029455</td>\n",
       "      <td>0.139613</td>\n",
       "      <td>0.130922</td>\n",
       "      <td>0.164581</td>\n",
       "      <td>0.126918</td>\n",
       "      <td>-0.410362</td>\n",
       "      <td>0.001218</td>\n",
       "      <td>0.061994</td>\n",
       "      <td>0.129863</td>\n",
       "      <td>1.000000</td>\n",
       "      <td>0.201534</td>\n",
       "    </tr>\n",
       "    <tr>\n",
       "      <td>Net Call Time in Min</td>\n",
       "      <td>0.190543</td>\n",
       "      <td>0.497205</td>\n",
       "      <td>0.463614</td>\n",
       "      <td>0.777900</td>\n",
       "      <td>0.431165</td>\n",
       "      <td>0.441391</td>\n",
       "      <td>0.315778</td>\n",
       "      <td>0.173245</td>\n",
       "      <td>0.461219</td>\n",
       "      <td>0.201534</td>\n",
       "      <td>1.000000</td>\n",
       "    </tr>\n",
       "  </tbody>\n",
       "</table>\n",
       "</div>"
      ],
      "text/plain": [
       "                           # Withdrawal Transactions  # Deposit Transactions  \\\n",
       "# Withdrawal Transactions                   1.000000                0.258760   \n",
       "# Deposit Transactions                      0.258760                1.000000   \n",
       "# Total Positions                           0.187878                0.540663   \n",
       "# Answered Calls                            0.203831                0.528255   \n",
       "# Logins                                    0.207712                0.450631   \n",
       "# Total Calls                               0.109052                0.283742   \n",
       "# Liquidations                              0.007116                0.275646   \n",
       "# Protected positions                       0.064387                0.138787   \n",
       "# Unprotected Positions                     0.187077                0.539719   \n",
       "% Answered Calls                            0.029455                0.139613   \n",
       "Net Call Time in Min                        0.190543                0.497205   \n",
       "\n",
       "                           # Total Positions  # Answered Calls  # Logins  \\\n",
       "# Withdrawal Transactions           0.187878          0.203831  0.207712   \n",
       "# Deposit Transactions              0.540663          0.528255  0.450631   \n",
       "# Total Positions                   1.000000          0.496732  0.642622   \n",
       "# Answered Calls                    0.496732          1.000000  0.503848   \n",
       "# Logins                            0.642622          0.503848  1.000000   \n",
       "# Total Calls                       0.269640          0.665485  0.279415   \n",
       "# Liquidations                      0.375548          0.390524  0.387089   \n",
       "# Protected positions               0.210918          0.150497  0.166263   \n",
       "# Unprotected Positions             0.999592          0.495193  0.641461   \n",
       "% Answered Calls                    0.130922          0.164581  0.126918   \n",
       "Net Call Time in Min                0.463614          0.777900  0.431165   \n",
       "\n",
       "                           # Total Calls  # Liquidations  \\\n",
       "# Withdrawal Transactions       0.109052        0.007116   \n",
       "# Deposit Transactions          0.283742        0.275646   \n",
       "# Total Positions               0.269640        0.375548   \n",
       "# Answered Calls                0.665485        0.390524   \n",
       "# Logins                        0.279415        0.387089   \n",
       "# Total Calls                   1.000000        0.274721   \n",
       "# Liquidations                  0.274721        1.000000   \n",
       "# Protected positions           0.069924        0.111801   \n",
       "# Unprotected Positions         0.269148        0.374442   \n",
       "% Answered Calls               -0.410362        0.001218   \n",
       "Net Call Time in Min            0.441391        0.315778   \n",
       "\n",
       "                           # Protected positions  # Unprotected Positions  \\\n",
       "# Withdrawal Transactions               0.064387                 0.187077   \n",
       "# Deposit Transactions                  0.138787                 0.539719   \n",
       "# Total Positions                       0.210918                 0.999592   \n",
       "# Answered Calls                        0.150497                 0.495193   \n",
       "# Logins                                0.166263                 0.641461   \n",
       "# Total Calls                           0.069924                 0.269148   \n",
       "# Liquidations                          0.111801                 0.374442   \n",
       "# Protected positions                   1.000000                 0.182906   \n",
       "# Unprotected Positions                 0.182906                 1.000000   \n",
       "% Answered Calls                        0.061994                 0.129863   \n",
       "Net Call Time in Min                    0.173245                 0.461219   \n",
       "\n",
       "                           % Answered Calls  Net Call Time in Min  \n",
       "# Withdrawal Transactions          0.029455              0.190543  \n",
       "# Deposit Transactions             0.139613              0.497205  \n",
       "# Total Positions                  0.130922              0.463614  \n",
       "# Answered Calls                   0.164581              0.777900  \n",
       "# Logins                           0.126918              0.431165  \n",
       "# Total Calls                     -0.410362              0.441391  \n",
       "# Liquidations                     0.001218              0.315778  \n",
       "# Protected positions              0.061994              0.173245  \n",
       "# Unprotected Positions            0.129863              0.461219  \n",
       "% Answered Calls                   1.000000              0.201534  \n",
       "Net Call Time in Min               0.201534              1.000000  "
      ]
     },
     "execution_count": 18,
     "metadata": {},
     "output_type": "execute_result"
    }
   ],
   "source": [
    "# Checking all correlations on all variables using the Pearson standard correlation coefficient\n",
    "countries_of_interest_data.corr()"
   ]
  },
  {
   "cell_type": "markdown",
   "metadata": {},
   "source": [
    "We can see some interesting things here that are going to help us with understanding the nature of the business better. For example, the number of deposit transactions correlates strongly with the number of positions and the number of answered calls - logically, a guy who is more responsive on the phone is more interested in depositing and more willing to trade. Another thing worth mentioning is the connection between the number of unprotected positions, which is considered real trading cause losses are not being covered by the broker, and the amount spent on the phone. It looks like a client needs more attention and \"nurturing\" on behalf of the agent so that he would risk and start trading for real. "
   ]
  },
  {
   "cell_type": "markdown",
   "metadata": {},
   "source": [
    "A problem that the business is interested in is whether clients are logging in because of personal interest or because our call agents are sparking their interest and pushing them to do so. We can perform hypothesis testing on how the number of answered calls of users with number of logins below the parameter's mean correlates to that number for users with logins above that threshold.  "
   ]
  },
  {
   "cell_type": "code",
   "execution_count": 19,
   "metadata": {},
   "outputs": [],
   "source": [
    "# Creating a new column flagging users whose number of logins is higher than the average\n",
    "countries_of_interest_data.loc[countries_of_interest_data[\"# Logins\"] >= countries_of_interest_data[\"# Logins\"].mean(), \"# Logins equal to or above column mean\"] = 1\n",
    "countries_of_interest_data.loc[countries_of_interest_data[\"# Logins\"] < countries_of_interest_data[\"# Logins\"].mean(), \"# Logins equal to or above column mean\"] = 0"
   ]
  },
  {
   "cell_type": "code",
   "execution_count": 20,
   "metadata": {},
   "outputs": [],
   "source": [
    "# Grouping the data and storing the two groups within their own variables\n",
    "logins_grouping_per_answered_calls = countries_of_interest_data.groupby(\"# Logins equal to or above column mean\")[\"# Answered Calls\"]\n",
    "group_below_threshold = logins_grouping_per_answered_calls.get_group(0)\n",
    "group_above_threshold = logins_grouping_per_answered_calls.get_group(1)"
   ]
  },
  {
   "cell_type": "markdown",
   "metadata": {},
   "source": [
    "To perform the hypothesis test, we need a pair of hypotheses. In this case our null hypothesis is that there is no relationship between the number of logins and the number of answered calls and the results are not significant in terms of supporting the idea being investigated. The alternative hypothesis says the opposite - one variable does affect the other one making it dependent. We assume that the null hypothesis is true and we proceed to performing a t-test on our two variables with a threshold value of 𝑝 set at 1%."
   ]
  },
  {
   "cell_type": "code",
   "execution_count": 21,
   "metadata": {},
   "outputs": [
    {
     "name": "stdout",
     "output_type": "stream",
     "text": [
      "7.232392483789353e-221\n",
      "The differences in the number of phone calls are significant. Reject H0.\n"
     ]
    }
   ],
   "source": [
    "# Performing a t-test on our two previously defined variables\n",
    "test_result = ttest_ind(group_below_threshold, group_above_threshold , equal_var = False)\n",
    "print(test_result.pvalue)\n",
    "if test_result.pvalue <= 0.01:\n",
    "    print(\"The differences in the number of phone calls are significant. Reject H0.\")\n",
    "else:\n",
    "    print(\"There's not enough evidence to reject H0. Don't accept or reject anything else.\")"
   ]
  },
  {
   "cell_type": "markdown",
   "metadata": {},
   "source": [
    "We can conclude that the distributions of answered calls are significantly different at the 1% level. It should be noted that the data we are observing covers users from unregulated brands, which means that the trading agents have more freedom, while talking to clients on the phone because the business is not being regulated by any of the commodities and futures trading commissions. And that on the other hand suggest for more calls and respectively more answered calls. However, that is not the case with our regulated brands where regulations are very strict so we can check if we are going to get similar results there."
   ]
  },
  {
   "cell_type": "code",
   "execution_count": 22,
   "metadata": {},
   "outputs": [],
   "source": [
    "# Getting a dataset of similar size covering users from regulated brands for the same time period \n",
    "regulated_leads_data = pd.read_csv(\"~/Regulated_leads_data.csv\", header = 2, index_col = \"User Id\")"
   ]
  },
  {
   "cell_type": "code",
   "execution_count": 23,
   "metadata": {},
   "outputs": [],
   "source": [
    "# Filling up the null values\n",
    "regulated_leads_data = regulated_leads_data.fillna(0)"
   ]
  },
  {
   "cell_type": "code",
   "execution_count": 24,
   "metadata": {},
   "outputs": [],
   "source": [
    "# Creating a new column flagging users whose number of logins is higher than the average\n",
    "regulated_leads_data.loc[regulated_leads_data[\"# Logins\"] >= regulated_leads_data[\"# Logins\"].mean(), \"# Regulated logins equal to or above column mean\"] = 1\n",
    "regulated_leads_data.loc[regulated_leads_data[\"# Logins\"] < regulated_leads_data[\"# Logins\"].mean(), \"# Regulated logins equal to or above column mean\"] = 0"
   ]
  },
  {
   "cell_type": "code",
   "execution_count": 25,
   "metadata": {},
   "outputs": [],
   "source": [
    "# Grouping the data and storing the two groups within their own variables as we did before\n",
    "logins_grouping_per_answered_calls_for_regulated = regulated_leads_data.groupby(\"# Regulated logins equal to or above column mean\")[\"# Answered Calls\"]\n",
    "group_below_threshold_regulated = logins_grouping_per_answered_calls_for_regulated.get_group(0)\n",
    "group_above_threshold_regulated = logins_grouping_per_answered_calls_for_regulated.get_group(1)"
   ]
  },
  {
   "cell_type": "code",
   "execution_count": 26,
   "metadata": {},
   "outputs": [
    {
     "name": "stdout",
     "output_type": "stream",
     "text": [
      "5.276845972359092e-204\n",
      "The differences in the number of phone calls are significant. Reject H0.\n"
     ]
    }
   ],
   "source": [
    "# Performing a t-test on our two previously defined variables\n",
    "test_result_regulated = ttest_ind(group_below_threshold_regulated, group_above_threshold_regulated , equal_var = False)\n",
    "print(test_result_regulated.pvalue)\n",
    "if test_result_regulated.pvalue <= 0.01:\n",
    "    print(\"The differences in the number of phone calls are significant. Reject H0.\")\n",
    "else:\n",
    "    print(\"There's not enough evidence to reject H0. Don't accept or reject anything else.\")"
   ]
  },
  {
   "cell_type": "markdown",
   "metadata": {},
   "source": [
    "We are getting similar results for our second dataset, which means that users from regulated brands do not act much different than those trading at unregulated ones. Our overall conclusion could be that agents still need to call users in order for them to login to our platforms. Which on the other hand suggests that our business is not ready for automating the retention process and cutting all costs related to paying call agents cause user activity is still too dependent on human contact. "
   ]
  },
  {
   "cell_type": "markdown",
   "metadata": {},
   "source": [
    "### 5. Modelling the data \n",
    "   We would like to develop a classification model using logistic regression. Our target variable is going to be a key            parameter for our business - the user activity status."
   ]
  },
  {
   "cell_type": "markdown",
   "metadata": {},
   "source": [
    "In general the user activity status is being determined by whether the client has made a deposit or has opened a position within the last 35 or 60 days. His status would change from active to churning if he did not do either of those activities within the last 35 days. In case the number of inactive days reaches 60 the status changes from churning to dormant. Now, based on the data we have we would like to predict if the status of a given user is active or not by using logistic regression and performing all the accompanying steps. "
   ]
  },
  {
   "cell_type": "code",
   "execution_count": 27,
   "metadata": {},
   "outputs": [],
   "source": [
    "# Turning our lead country and activity status columns to indicator variables because scikit-learn doesn't know how to deal with text and categories\n",
    "countries_of_interest_data_for_modelling = pd.get_dummies(data = countries_of_interest_data, columns=[\"Lead Country\", \"Current Activity Status\"])"
   ]
  },
  {
   "cell_type": "code",
   "execution_count": 28,
   "metadata": {},
   "outputs": [],
   "source": [
    "# Removing the unnecessary columns, most importantly those with the other two statuses - dormant and churning\n",
    "countries_of_interest_data_for_modelling = countries_of_interest_data_for_modelling.drop([\"First RTN assignment\", \"First Position Date\", \"First Unprotected Position Date\", \"First Liquidation Date\", \"First Deposit Date\", \"First Withdrawal Date\" , \"First Login Date\", \"Agent Team Name\", \"Agent Desk Name\", \"Agent Group Name\", \"Current Activity Status_Dormant\", \"Current Activity Status_Churning\"], axis = 1)"
   ]
  },
  {
   "cell_type": "code",
   "execution_count": 29,
   "metadata": {},
   "outputs": [
    {
     "name": "stdout",
     "output_type": "stream",
     "text": [
      "<class 'pandas.core.frame.DataFrame'>\n",
      "Int64Index: 7053 entries, 4330088 to 8070529\n",
      "Data columns (total 23 columns):\n",
      "# Withdrawal Transactions                 7053 non-null int64\n",
      "# Deposit Transactions                    7053 non-null int64\n",
      "# Total Positions                         7053 non-null float64\n",
      "# Answered Calls                          7053 non-null float64\n",
      "# Logins                                  7053 non-null int64\n",
      "# Total Calls                             7053 non-null float64\n",
      "# Liquidations                            7053 non-null float64\n",
      "# Protected positions                     7053 non-null float64\n",
      "# Unprotected Positions                   7053 non-null float64\n",
      "% Answered Calls                          7053 non-null float64\n",
      "Net Call Time in Min                      7053 non-null float64\n",
      "# Logins equal to or above column mean    7053 non-null float64\n",
      "Lead Country_Argentina                    7053 non-null uint8\n",
      "Lead Country_Chile                        7053 non-null uint8\n",
      "Lead Country_Colombia                     7053 non-null uint8\n",
      "Lead Country_Costa Rica                   7053 non-null uint8\n",
      "Lead Country_Dominican Republic           7053 non-null uint8\n",
      "Lead Country_Ecuador                      7053 non-null uint8\n",
      "Lead Country_El Salvador                  7053 non-null uint8\n",
      "Lead Country_Mexico                       7053 non-null uint8\n",
      "Lead Country_Peru                         7053 non-null uint8\n",
      "Lead Country_Uruguay                      7053 non-null uint8\n",
      "Current Activity Status_Active            7053 non-null uint8\n",
      "dtypes: float64(9), int64(3), uint8(11)\n",
      "memory usage: 792.1 KB\n"
     ]
    }
   ],
   "source": [
    "# Now we are ready with the data that we are going to use for our model\n",
    "countries_of_interest_data_for_modelling.info()"
   ]
  },
  {
   "cell_type": "code",
   "execution_count": 30,
   "metadata": {},
   "outputs": [],
   "source": [
    "# Making 'Current Activity Status_Active' our target variable, while all other variables will be our explanatory ones\n",
    "countries_of_interest_data_features = countries_of_interest_data_for_modelling.drop(\"Current Activity Status_Active\", axis = 1)\n",
    "countries_of_interest_data_target = countries_of_interest_data_for_modelling[\"Current Activity Status_Active\"]"
   ]
  },
  {
   "cell_type": "code",
   "execution_count": 31,
   "metadata": {},
   "outputs": [
    {
     "data": {
      "text/plain": [
       "1    0.556643\n",
       "0    0.443357\n",
       "Name: Current Activity Status_Active, dtype: float64"
      ]
     },
     "execution_count": 31,
     "metadata": {},
     "output_type": "execute_result"
    }
   ],
   "source": [
    "# We can see that our target data is relatively equally distributed\n",
    "countries_of_interest_data_target.value_counts(normalize = True)"
   ]
  },
  {
   "cell_type": "code",
   "execution_count": 32,
   "metadata": {},
   "outputs": [],
   "source": [
    "# Rescaling the values for each numeric column using a min-max normalization for algorithm stability and convergence\n",
    "scaler = MinMaxScaler()\n",
    "countries_of_interest_data_features_scaled = scaler.fit_transform(countries_of_interest_data_features)"
   ]
  },
  {
   "cell_type": "code",
   "execution_count": 33,
   "metadata": {},
   "outputs": [
    {
     "name": "stdout",
     "output_type": "stream",
     "text": [
      "(4937, 22)\r\n",
      "(2116, 22)\r\n",
      "(4937,)\r\n",
      "(2116,)\n"
     ]
    }
   ],
   "source": [
    "# Splitting the data into training and test subsets using a 70-30 distribution ratio\n",
    "features_train, features_test, target_train, target_test = train_test_split(\n",
    "    countries_of_interest_data_features_scaled, countries_of_interest_data_target, train_size = 0.7, test_size = 0.3, random_state = 42)\n",
    "print(features_train.shape, features_test.shape, target_train.shape, target_test.shape, sep = \"\\r\\n\")"
   ]
  },
  {
   "cell_type": "code",
   "execution_count": 34,
   "metadata": {},
   "outputs": [
    {
     "name": "stderr",
     "output_type": "stream",
     "text": [
      "C:\\Users\\yasen.nestorov\\AppData\\Local\\Continuum\\anaconda3\\lib\\site-packages\\sklearn\\linear_model\\logistic.py:432: FutureWarning: Default solver will be changed to 'lbfgs' in 0.22. Specify a solver to silence this warning.\n",
      "  FutureWarning)\n"
     ]
    },
    {
     "data": {
      "text/plain": [
       "LogisticRegression(C=1.0, class_weight=None, dual=False, fit_intercept=True,\n",
       "                   intercept_scaling=1, l1_ratio=None, max_iter=100,\n",
       "                   multi_class='warn', n_jobs=None, penalty='l2',\n",
       "                   random_state=None, solver='warn', tol=0.0001, verbose=0,\n",
       "                   warm_start=False)"
      ]
     },
     "execution_count": 34,
     "metadata": {},
     "output_type": "execute_result"
    }
   ],
   "source": [
    "# Creating a logistic regression model and fitting the model using the training features and training target\n",
    "model = LogisticRegression()\n",
    "model.fit(features_train, target_train)"
   ]
  },
  {
   "cell_type": "code",
   "execution_count": 35,
   "metadata": {},
   "outputs": [
    {
     "name": "stdout",
     "output_type": "stream",
     "text": [
      "0.7296786389413988\n"
     ]
    }
   ],
   "source": [
    "# Scoring the model\n",
    "score = model.score(features_test, target_test)\n",
    "print(score )"
   ]
  },
  {
   "cell_type": "markdown",
   "metadata": {},
   "source": [
    "The scoring metric of our classification model is accuracy. That means that we have a 71% chance of predicting correctly whether a user is active or not when using it. Within the future we can try developing something more complicated that would allow us to evaluate the potential of all incoming clients based only on their initial activity. Why would that be so important for us? For example we would be able to assign high-potential users to our top agents, while moving lower-potential guys to rookie agents. Or we could give high-potential guys bigger bonuses or more credit because we would know that we would be able to make profit of them within the near future. In general, machine learning could open a lot of doors for our business."
   ]
  }
 ],
 "metadata": {
  "kernelspec": {
   "display_name": "Python 3",
   "language": "python",
   "name": "python3"
  },
  "language_info": {
   "codemirror_mode": {
    "name": "ipython",
    "version": 3
   },
   "file_extension": ".py",
   "mimetype": "text/x-python",
   "name": "python",
   "nbconvert_exporter": "python",
   "pygments_lexer": "ipython3",
   "version": "3.7.4"
  }
 },
 "nbformat": 4,
 "nbformat_minor": 2
}
